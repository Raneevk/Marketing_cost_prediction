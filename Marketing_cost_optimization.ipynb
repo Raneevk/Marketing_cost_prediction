{
 "cells": [
  {
   "cell_type": "code",
   "execution_count": 1,
   "id": "23f012bd",
   "metadata": {},
   "outputs": [],
   "source": [
    "#importing essential libraries\n",
    "import pandas as pd\n",
    "import numpy as np\n",
    "import matplotlib.pyplot as plt\n",
    "%matplotlib inline\n",
    "import seaborn as sns\n",
    "from datetime import datetime\n",
    "import datetime as dt\n",
    "from sklearn.preprocessing import MinMaxScaler\n",
    "from sklearn.linear_model import LinearRegression\n",
    "from sklearn.model_selection import train_test_split\n",
    "from sklearn.metrics import r2_score\n",
    "from sklearn.metrics import mean_squared_error\n",
    "import warnings\n",
    "warnings.filterwarnings('ignore')\n",
    "pd.set_option(\"display.max_columns\",None)\n"
   ]
  },
  {
   "cell_type": "code",
   "execution_count": 2,
   "id": "17613977",
   "metadata": {},
   "outputs": [
    {
     "data": {
      "text/html": [
       "<div>\n",
       "<style scoped>\n",
       "    .dataframe tbody tr th:only-of-type {\n",
       "        vertical-align: middle;\n",
       "    }\n",
       "\n",
       "    .dataframe tbody tr th {\n",
       "        vertical-align: top;\n",
       "    }\n",
       "\n",
       "    .dataframe thead th {\n",
       "        text-align: right;\n",
       "    }\n",
       "</style>\n",
       "<table border=\"1\" class=\"dataframe\">\n",
       "  <thead>\n",
       "    <tr style=\"text-align: right;\">\n",
       "      <th></th>\n",
       "      <th>Region</th>\n",
       "      <th>Amount spent (INR)</th>\n",
       "      <th>Results</th>\n",
       "    </tr>\n",
       "  </thead>\n",
       "  <tbody>\n",
       "    <tr>\n",
       "      <th>0</th>\n",
       "      <td>Maharashtra</td>\n",
       "      <td>13166</td>\n",
       "      <td>122</td>\n",
       "    </tr>\n",
       "    <tr>\n",
       "      <th>1</th>\n",
       "      <td>Kerala</td>\n",
       "      <td>14725</td>\n",
       "      <td>235</td>\n",
       "    </tr>\n",
       "    <tr>\n",
       "      <th>2</th>\n",
       "      <td>Madhya Pradesh</td>\n",
       "      <td>48925</td>\n",
       "      <td>472</td>\n",
       "    </tr>\n",
       "    <tr>\n",
       "      <th>3</th>\n",
       "      <td>Haryana</td>\n",
       "      <td>2217</td>\n",
       "      <td>24</td>\n",
       "    </tr>\n",
       "    <tr>\n",
       "      <th>4</th>\n",
       "      <td>Rajasthan</td>\n",
       "      <td>7925</td>\n",
       "      <td>89</td>\n",
       "    </tr>\n",
       "  </tbody>\n",
       "</table>\n",
       "</div>"
      ],
      "text/plain": [
       "           Region  Amount spent (INR)  Results\n",
       "0     Maharashtra               13166      122\n",
       "1          Kerala               14725      235\n",
       "2  Madhya Pradesh               48925      472\n",
       "3         Haryana                2217       24\n",
       "4       Rajasthan                7925       89"
      ]
     },
     "execution_count": 2,
     "metadata": {},
     "output_type": "execute_result"
    }
   ],
   "source": [
    "# Reading the dataset\n",
    "df = pd.read_csv('Marketing_cost_prediction.csv', encoding = 'latin')\n",
    "# Printing the first 5 rows of the dataset\n",
    "df.head()"
   ]
  },
  {
   "cell_type": "code",
   "execution_count": 3,
   "id": "96833366",
   "metadata": {},
   "outputs": [],
   "source": [
    "#creating a copy of dataset\n",
    "df_copy = df.copy()"
   ]
  },
  {
   "cell_type": "code",
   "execution_count": 4,
   "id": "50ac9a5e",
   "metadata": {},
   "outputs": [
    {
     "data": {
      "text/plain": [
       "(11805, 3)"
      ]
     },
     "execution_count": 4,
     "metadata": {},
     "output_type": "execute_result"
    }
   ],
   "source": [
    "#lets check the shape of dataset\n",
    "df_copy.shape"
   ]
  },
  {
   "cell_type": "code",
   "execution_count": 5,
   "id": "fe9d00dd",
   "metadata": {},
   "outputs": [
    {
     "name": "stdout",
     "output_type": "stream",
     "text": [
      "<class 'pandas.core.frame.DataFrame'>\n",
      "RangeIndex: 11805 entries, 0 to 11804\n",
      "Data columns (total 3 columns):\n",
      " #   Column              Non-Null Count  Dtype \n",
      "---  ------              --------------  ----- \n",
      " 0   Region              11805 non-null  object\n",
      " 1   Amount spent (INR)  11805 non-null  int64 \n",
      " 2   Results             11805 non-null  int64 \n",
      "dtypes: int64(2), object(1)\n",
      "memory usage: 276.8+ KB\n"
     ]
    }
   ],
   "source": [
    "#checking the basic informations about the dataset\n",
    "df_copy.info()"
   ]
  },
  {
   "cell_type": "code",
   "execution_count": 6,
   "id": "c0e4a545",
   "metadata": {},
   "outputs": [
    {
     "data": {
      "text/html": [
       "<div>\n",
       "<style scoped>\n",
       "    .dataframe tbody tr th:only-of-type {\n",
       "        vertical-align: middle;\n",
       "    }\n",
       "\n",
       "    .dataframe tbody tr th {\n",
       "        vertical-align: top;\n",
       "    }\n",
       "\n",
       "    .dataframe thead th {\n",
       "        text-align: right;\n",
       "    }\n",
       "</style>\n",
       "<table border=\"1\" class=\"dataframe\">\n",
       "  <thead>\n",
       "    <tr style=\"text-align: right;\">\n",
       "      <th></th>\n",
       "      <th>count</th>\n",
       "      <th>unique</th>\n",
       "      <th>top</th>\n",
       "      <th>freq</th>\n",
       "      <th>mean</th>\n",
       "      <th>std</th>\n",
       "      <th>min</th>\n",
       "      <th>25%</th>\n",
       "      <th>50%</th>\n",
       "      <th>75%</th>\n",
       "      <th>max</th>\n",
       "    </tr>\n",
       "  </thead>\n",
       "  <tbody>\n",
       "    <tr>\n",
       "      <th>Region</th>\n",
       "      <td>11805</td>\n",
       "      <td>24</td>\n",
       "      <td>Tamil Nadu</td>\n",
       "      <td>1137</td>\n",
       "      <td>NaN</td>\n",
       "      <td>NaN</td>\n",
       "      <td>NaN</td>\n",
       "      <td>NaN</td>\n",
       "      <td>NaN</td>\n",
       "      <td>NaN</td>\n",
       "      <td>NaN</td>\n",
       "    </tr>\n",
       "    <tr>\n",
       "      <th>Amount spent (INR)</th>\n",
       "      <td>11805.0</td>\n",
       "      <td>NaN</td>\n",
       "      <td>NaN</td>\n",
       "      <td>NaN</td>\n",
       "      <td>25711.322914</td>\n",
       "      <td>15326.538188</td>\n",
       "      <td>45.0</td>\n",
       "      <td>12603.0</td>\n",
       "      <td>25292.0</td>\n",
       "      <td>38395.0</td>\n",
       "      <td>86339.0</td>\n",
       "    </tr>\n",
       "    <tr>\n",
       "      <th>Results</th>\n",
       "      <td>11805.0</td>\n",
       "      <td>NaN</td>\n",
       "      <td>NaN</td>\n",
       "      <td>NaN</td>\n",
       "      <td>249.627531</td>\n",
       "      <td>144.008233</td>\n",
       "      <td>1.0</td>\n",
       "      <td>125.0</td>\n",
       "      <td>252.0</td>\n",
       "      <td>374.0</td>\n",
       "      <td>500.0</td>\n",
       "    </tr>\n",
       "  </tbody>\n",
       "</table>\n",
       "</div>"
      ],
      "text/plain": [
       "                      count unique         top  freq          mean  \\\n",
       "Region                11805     24  Tamil Nadu  1137           NaN   \n",
       "Amount spent (INR)  11805.0    NaN         NaN   NaN  25711.322914   \n",
       "Results             11805.0    NaN         NaN   NaN    249.627531   \n",
       "\n",
       "                             std   min      25%      50%      75%      max  \n",
       "Region                       NaN   NaN      NaN      NaN      NaN      NaN  \n",
       "Amount spent (INR)  15326.538188  45.0  12603.0  25292.0  38395.0  86339.0  \n",
       "Results               144.008233   1.0    125.0    252.0    374.0    500.0  "
      ]
     },
     "execution_count": 6,
     "metadata": {},
     "output_type": "execute_result"
    }
   ],
   "source": [
    "#checking the descriptive statistics of the dataset\n",
    "df_copy.describe(include='all').T"
   ]
  },
  {
   "cell_type": "code",
   "execution_count": 7,
   "id": "ee1ce4e4",
   "metadata": {},
   "outputs": [
    {
     "data": {
      "text/plain": [
       "Region                0\n",
       "Amount spent (INR)    0\n",
       "Results               0\n",
       "dtype: int64"
      ]
     },
     "execution_count": 7,
     "metadata": {},
     "output_type": "execute_result"
    }
   ],
   "source": [
    "#DATA PREPARATION AND CLEANING\n",
    "df_copy.isnull().sum()"
   ]
  },
  {
   "cell_type": "code",
   "execution_count": 8,
   "id": "df762fac",
   "metadata": {},
   "outputs": [],
   "source": [
    "df_copy.dropna(inplace=True)"
   ]
  },
  {
   "cell_type": "code",
   "execution_count": 9,
   "id": "dda752b6",
   "metadata": {},
   "outputs": [
    {
     "data": {
      "text/plain": [
       "Region                0\n",
       "Amount spent (INR)    0\n",
       "Results               0\n",
       "dtype: int64"
      ]
     },
     "execution_count": 9,
     "metadata": {},
     "output_type": "execute_result"
    }
   ],
   "source": [
    "df_copy.isnull().sum()"
   ]
  },
  {
   "cell_type": "code",
   "execution_count": 10,
   "id": "944f27f8",
   "metadata": {},
   "outputs": [],
   "source": [
    "df_new = df_copy[df_copy[\"Amount spent (INR)\"]!=0]\n",
    "df_new = df_copy[df_copy[\"Results\"]!=0]"
   ]
  },
  {
   "cell_type": "code",
   "execution_count": 11,
   "id": "cd35f597",
   "metadata": {},
   "outputs": [
    {
     "data": {
      "text/plain": [
       "(11805, 3)"
      ]
     },
     "execution_count": 11,
     "metadata": {},
     "output_type": "execute_result"
    }
   ],
   "source": [
    "df_new.shape"
   ]
  },
  {
   "cell_type": "code",
   "execution_count": 12,
   "id": "8930c63b",
   "metadata": {},
   "outputs": [
    {
     "data": {
      "text/plain": [
       "<AxesSubplot:xlabel='Amount spent (INR)', ylabel='Density'>"
      ]
     },
     "execution_count": 12,
     "metadata": {},
     "output_type": "execute_result"
    },
    {
     "data": {
      "image/png": "[encoded data removed]",
      "text/plain": [
       "<Figure size 432x288 with 1 Axes>"
      ]
     },
     "metadata": {
      "needs_background": "light"
     },
     "output_type": "display_data"
    }
   ],
   "source": [
    "#Exploratory data analysis\n",
    "#checking the distribution of dependent variable\n",
    "sns.distplot(df_new[\"Amount spent (INR)\"])"
   ]
  },
  {
   "cell_type": "code",
   "execution_count": 13,
   "id": "06c7133d",
   "metadata": {},
   "outputs": [
    {
     "data": {
      "text/plain": [
       "<AxesSubplot:xlabel='Amount spent (INR)'>"
      ]
     },
     "execution_count": 13,
     "metadata": {},
     "output_type": "execute_result"
    },
    {
     "data": {
      "image/png": "[encoded data removed]",
      "text/plain": [
       "<Figure size 432x288 with 1 Axes>"
      ]
     },
     "metadata": {
      "needs_background": "light"
     },
     "output_type": "display_data"
    }
   ],
   "source": [
    "sns.boxplot(df_new[\"Amount spent (INR)\"])"
   ]
  },
  {
   "cell_type": "code",
   "execution_count": 14,
   "id": "5fce0247",
   "metadata": {},
   "outputs": [
    {
     "ename": "SyntaxError",
     "evalue": "unexpected EOF while parsing (Temp/ipykernel_8720/1799956730.py, line 2)",
     "output_type": "error",
     "traceback": [
      "\u001b[1;36m  File \u001b[1;32m\"C:\\Users\\Redmi\\AppData\\Local\\Temp/ipykernel_8720/1799956730.py\"\u001b[1;36m, line \u001b[1;32m2\u001b[0m\n\u001b[1;33m    sns.boxplot(x = np.sqrt(df_new[\"Amount spent (INR)\"]\u001b[0m\n\u001b[1;37m                                                        ^\u001b[0m\n\u001b[1;31mSyntaxError\u001b[0m\u001b[1;31m:\u001b[0m unexpected EOF while parsing\n"
     ]
    }
   ],
   "source": [
    "#Lets apply squareroot transformation to treat these outliers\n",
    "sns.boxplot(x = np.sqrt(df_new[\"Amount spent (INR)\"]"
   ]
  },
  {
   "cell_type": "code",
   "execution_count": null,
   "id": "cdbddb22",
   "metadata": {},
   "outputs": [],
   "source": [
    "df_new[\"Amount spent (INR)\"] = np.sqrt(df_new[\"Amount spent (INR)\"])"
   ]
  },
  {
   "cell_type": "code",
   "execution_count": 35,
   "id": "3f2f4261",
   "metadata": {},
   "outputs": [
    {
     "data": {
      "text/plain": [
       "<AxesSubplot:xlabel='Amount spent (INR)', ylabel='Density'>"
      ]
     },
     "execution_count": 35,
     "metadata": {},
     "output_type": "execute_result"
    },
    {
     "data": {
      "image/png": "[encoded data removed]",
      "text/plain": [
       "<Figure size 432x288 with 1 Axes>"
      ]
     },
     "metadata": {
      "needs_background": "light"
     },
     "output_type": "display_data"
    }
   ],
   "source": [
    "sns.distplot(df_new[\"Amount spent (INR)\"])"
   ]
  },
  {
   "cell_type": "code",
   "execution_count": 36,
   "id": "92e28d1e",
   "metadata": {},
   "outputs": [
    {
     "name": "stdout",
     "output_type": "stream",
     "text": [
      "The categorical features in the dataset are: ['Region']\n"
     ]
    }
   ],
   "source": [
    "categorical_feat = [feature for feature in df_new.columns if df_new[feature].dtypes == 'O']\n",
    "print('The categorical features in the dataset are:',categorical_feat)"
   ]
  },
  {
   "cell_type": "code",
   "execution_count": 37,
   "id": "dad6ebc7",
   "metadata": {},
   "outputs": [
    {
     "data": {
      "text/plain": [
       "['Amount spent (INR)', 'Results']"
      ]
     },
     "execution_count": 37,
     "metadata": {},
     "output_type": "execute_result"
    }
   ],
   "source": [
    "# Collecting numerical features present in the dataset\n",
    "numerical_feat = [feature for feature in df_new.columns if df_new[feature].dtypes != 'O']\n",
    "numerical_feat"
   ]
  },
  {
   "cell_type": "code",
   "execution_count": 38,
   "id": "0ff6982d",
   "metadata": {},
   "outputs": [
    {
     "data": {
      "text/plain": [
       "<AxesSubplot:>"
      ]
     },
     "execution_count": 38,
     "metadata": {},
     "output_type": "execute_result"
    },
    {
     "data": {
      "image/png": "[encoded data removed]",
      "text/plain": [
       "<Figure size 1080x720 with 2 Axes>"
      ]
     },
     "metadata": {
      "needs_background": "light"
     },
     "output_type": "display_data"
    }
   ],
   "source": [
    "# Understanding correlation using heatmap\n",
    "plt.figure(figsize = (15,10))\n",
    "sns.heatmap(df_new.corr(), annot = True, cmap = 'Blues', center = 0.3)"
   ]
  },
  {
   "cell_type": "code",
   "execution_count": 39,
   "id": "b83c3cb8",
   "metadata": {},
   "outputs": [
    {
     "data": {
      "text/html": [
       "<div>\n",
       "<style scoped>\n",
       "    .dataframe tbody tr th:only-of-type {\n",
       "        vertical-align: middle;\n",
       "    }\n",
       "\n",
       "    .dataframe tbody tr th {\n",
       "        vertical-align: top;\n",
       "    }\n",
       "\n",
       "    .dataframe thead th {\n",
       "        text-align: right;\n",
       "    }\n",
       "</style>\n",
       "<table border=\"1\" class=\"dataframe\">\n",
       "  <thead>\n",
       "    <tr style=\"text-align: right;\">\n",
       "      <th></th>\n",
       "      <th>Region</th>\n",
       "      <th>Amount spent (INR)</th>\n",
       "      <th>Results</th>\n",
       "    </tr>\n",
       "  </thead>\n",
       "  <tbody>\n",
       "    <tr>\n",
       "      <th>0</th>\n",
       "      <td>Maharashtra</td>\n",
       "      <td>13166</td>\n",
       "      <td>122</td>\n",
       "    </tr>\n",
       "    <tr>\n",
       "      <th>1</th>\n",
       "      <td>Kerala</td>\n",
       "      <td>14725</td>\n",
       "      <td>235</td>\n",
       "    </tr>\n",
       "    <tr>\n",
       "      <th>2</th>\n",
       "      <td>Madhya Pradesh</td>\n",
       "      <td>48925</td>\n",
       "      <td>472</td>\n",
       "    </tr>\n",
       "    <tr>\n",
       "      <th>3</th>\n",
       "      <td>Haryana</td>\n",
       "      <td>2217</td>\n",
       "      <td>24</td>\n",
       "    </tr>\n",
       "    <tr>\n",
       "      <th>4</th>\n",
       "      <td>Rajasthan</td>\n",
       "      <td>7925</td>\n",
       "      <td>89</td>\n",
       "    </tr>\n",
       "    <tr>\n",
       "      <th>...</th>\n",
       "      <td>...</td>\n",
       "      <td>...</td>\n",
       "      <td>...</td>\n",
       "    </tr>\n",
       "    <tr>\n",
       "      <th>11800</th>\n",
       "      <td>Delhi</td>\n",
       "      <td>16098</td>\n",
       "      <td>150</td>\n",
       "    </tr>\n",
       "    <tr>\n",
       "      <th>11801</th>\n",
       "      <td>Tamil Nadu</td>\n",
       "      <td>38134</td>\n",
       "      <td>395</td>\n",
       "    </tr>\n",
       "    <tr>\n",
       "      <th>11802</th>\n",
       "      <td>Maharashtra</td>\n",
       "      <td>39174</td>\n",
       "      <td>363</td>\n",
       "    </tr>\n",
       "    <tr>\n",
       "      <th>11803</th>\n",
       "      <td>Madhya Pradesh</td>\n",
       "      <td>44882</td>\n",
       "      <td>433</td>\n",
       "    </tr>\n",
       "    <tr>\n",
       "      <th>11804</th>\n",
       "      <td>Tamil Nadu</td>\n",
       "      <td>42382</td>\n",
       "      <td>439</td>\n",
       "    </tr>\n",
       "  </tbody>\n",
       "</table>\n",
       "<p>11805 rows × 3 columns</p>\n",
       "</div>"
      ],
      "text/plain": [
       "               Region  Amount spent (INR)  Results\n",
       "0         Maharashtra               13166      122\n",
       "1              Kerala               14725      235\n",
       "2      Madhya Pradesh               48925      472\n",
       "3             Haryana                2217       24\n",
       "4           Rajasthan                7925       89\n",
       "...               ...                 ...      ...\n",
       "11800           Delhi               16098      150\n",
       "11801      Tamil Nadu               38134      395\n",
       "11802     Maharashtra               39174      363\n",
       "11803  Madhya Pradesh               44882      433\n",
       "11804      Tamil Nadu               42382      439\n",
       "\n",
       "[11805 rows x 3 columns]"
      ]
     },
     "execution_count": 39,
     "metadata": {},
     "output_type": "execute_result"
    }
   ],
   "source": [
    "df_new"
   ]
  },
  {
   "cell_type": "code",
   "execution_count": 40,
   "id": "4d360cc4",
   "metadata": {},
   "outputs": [],
   "source": [
    "from sklearn.preprocessing import LabelEncoder\n",
    "# creating instance of labelencoder\n",
    "labelencoder = LabelEncoder()\n",
    "# Assigning numerical values and storing in another column\n",
    "df_new['Region_label'] = labelencoder.fit_transform(df_new['Region'])\n"
   ]
  },
  {
   "cell_type": "code",
   "execution_count": 41,
   "id": "a6dd3d87",
   "metadata": {},
   "outputs": [],
   "source": [
    "df_manual = df_new.loc[:, ['Region', 'Region_label']]"
   ]
  },
  {
   "cell_type": "code",
   "execution_count": 42,
   "id": "088156d3",
   "metadata": {},
   "outputs": [
    {
     "data": {
      "text/html": [
       "<div>\n",
       "<style scoped>\n",
       "    .dataframe tbody tr th:only-of-type {\n",
       "        vertical-align: middle;\n",
       "    }\n",
       "\n",
       "    .dataframe tbody tr th {\n",
       "        vertical-align: top;\n",
       "    }\n",
       "\n",
       "    .dataframe thead th {\n",
       "        text-align: right;\n",
       "    }\n",
       "</style>\n",
       "<table border=\"1\" class=\"dataframe\">\n",
       "  <thead>\n",
       "    <tr style=\"text-align: right;\">\n",
       "      <th></th>\n",
       "      <th>Region</th>\n",
       "      <th>Region_label</th>\n",
       "    </tr>\n",
       "  </thead>\n",
       "  <tbody>\n",
       "    <tr>\n",
       "      <th>0</th>\n",
       "      <td>Maharashtra</td>\n",
       "      <td>13</td>\n",
       "    </tr>\n",
       "    <tr>\n",
       "      <th>1</th>\n",
       "      <td>Kerala</td>\n",
       "      <td>11</td>\n",
       "    </tr>\n",
       "    <tr>\n",
       "      <th>2</th>\n",
       "      <td>Madhya Pradesh</td>\n",
       "      <td>12</td>\n",
       "    </tr>\n",
       "    <tr>\n",
       "      <th>3</th>\n",
       "      <td>Haryana</td>\n",
       "      <td>7</td>\n",
       "    </tr>\n",
       "    <tr>\n",
       "      <th>4</th>\n",
       "      <td>Rajasthan</td>\n",
       "      <td>17</td>\n",
       "    </tr>\n",
       "    <tr>\n",
       "      <th>5</th>\n",
       "      <td>Gujarat</td>\n",
       "      <td>6</td>\n",
       "    </tr>\n",
       "    <tr>\n",
       "      <th>6</th>\n",
       "      <td>Odisha</td>\n",
       "      <td>14</td>\n",
       "    </tr>\n",
       "    <tr>\n",
       "      <th>7</th>\n",
       "      <td>Bihar</td>\n",
       "      <td>2</td>\n",
       "    </tr>\n",
       "    <tr>\n",
       "      <th>8</th>\n",
       "      <td>Jharkhand</td>\n",
       "      <td>9</td>\n",
       "    </tr>\n",
       "    <tr>\n",
       "      <th>9</th>\n",
       "      <td>Chhattisgarh</td>\n",
       "      <td>4</td>\n",
       "    </tr>\n",
       "    <tr>\n",
       "      <th>10</th>\n",
       "      <td>Jammu and Kashmir</td>\n",
       "      <td>8</td>\n",
       "    </tr>\n",
       "    <tr>\n",
       "      <th>11</th>\n",
       "      <td>Uttarakhand</td>\n",
       "      <td>22</td>\n",
       "    </tr>\n",
       "    <tr>\n",
       "      <th>12</th>\n",
       "      <td>Delhi</td>\n",
       "      <td>5</td>\n",
       "    </tr>\n",
       "    <tr>\n",
       "      <th>13</th>\n",
       "      <td>Puducherry</td>\n",
       "      <td>15</td>\n",
       "    </tr>\n",
       "    <tr>\n",
       "      <th>14</th>\n",
       "      <td>Punjab region</td>\n",
       "      <td>16</td>\n",
       "    </tr>\n",
       "    <tr>\n",
       "      <th>15</th>\n",
       "      <td>Chandigarh</td>\n",
       "      <td>3</td>\n",
       "    </tr>\n",
       "    <tr>\n",
       "      <th>16</th>\n",
       "      <td>Tripura</td>\n",
       "      <td>20</td>\n",
       "    </tr>\n",
       "    <tr>\n",
       "      <th>17</th>\n",
       "      <td>Andhra Pradesh</td>\n",
       "      <td>0</td>\n",
       "    </tr>\n",
       "    <tr>\n",
       "      <th>18</th>\n",
       "      <td>West Bengal</td>\n",
       "      <td>23</td>\n",
       "    </tr>\n",
       "    <tr>\n",
       "      <th>19</th>\n",
       "      <td>Andhra Pradesh</td>\n",
       "      <td>0</td>\n",
       "    </tr>\n",
       "    <tr>\n",
       "      <th>20</th>\n",
       "      <td>West Bengal</td>\n",
       "      <td>23</td>\n",
       "    </tr>\n",
       "    <tr>\n",
       "      <th>21</th>\n",
       "      <td>Bihar</td>\n",
       "      <td>2</td>\n",
       "    </tr>\n",
       "    <tr>\n",
       "      <th>22</th>\n",
       "      <td>Telangana</td>\n",
       "      <td>19</td>\n",
       "    </tr>\n",
       "    <tr>\n",
       "      <th>23</th>\n",
       "      <td>Tamil Nadu</td>\n",
       "      <td>18</td>\n",
       "    </tr>\n",
       "    <tr>\n",
       "      <th>24</th>\n",
       "      <td>Karnataka</td>\n",
       "      <td>10</td>\n",
       "    </tr>\n",
       "    <tr>\n",
       "      <th>25</th>\n",
       "      <td>Maharashtra</td>\n",
       "      <td>13</td>\n",
       "    </tr>\n",
       "    <tr>\n",
       "      <th>26</th>\n",
       "      <td>Odisha</td>\n",
       "      <td>14</td>\n",
       "    </tr>\n",
       "    <tr>\n",
       "      <th>27</th>\n",
       "      <td>Punjab region</td>\n",
       "      <td>16</td>\n",
       "    </tr>\n",
       "    <tr>\n",
       "      <th>28</th>\n",
       "      <td>Telangana</td>\n",
       "      <td>19</td>\n",
       "    </tr>\n",
       "    <tr>\n",
       "      <th>29</th>\n",
       "      <td>Delhi</td>\n",
       "      <td>5</td>\n",
       "    </tr>\n",
       "  </tbody>\n",
       "</table>\n",
       "</div>"
      ],
      "text/plain": [
       "               Region  Region_label\n",
       "0         Maharashtra            13\n",
       "1              Kerala            11\n",
       "2      Madhya Pradesh            12\n",
       "3             Haryana             7\n",
       "4           Rajasthan            17\n",
       "5             Gujarat             6\n",
       "6              Odisha            14\n",
       "7               Bihar             2\n",
       "8           Jharkhand             9\n",
       "9        Chhattisgarh             4\n",
       "10  Jammu and Kashmir             8\n",
       "11        Uttarakhand            22\n",
       "12              Delhi             5\n",
       "13         Puducherry            15\n",
       "14      Punjab region            16\n",
       "15         Chandigarh             3\n",
       "16            Tripura            20\n",
       "17     Andhra Pradesh             0\n",
       "18        West Bengal            23\n",
       "19     Andhra Pradesh             0\n",
       "20        West Bengal            23\n",
       "21              Bihar             2\n",
       "22          Telangana            19\n",
       "23         Tamil Nadu            18\n",
       "24          Karnataka            10\n",
       "25        Maharashtra            13\n",
       "26             Odisha            14\n",
       "27      Punjab region            16\n",
       "28          Telangana            19\n",
       "29              Delhi             5"
      ]
     },
     "execution_count": 42,
     "metadata": {},
     "output_type": "execute_result"
    }
   ],
   "source": [
    "df_manual.head(30)"
   ]
  },
  {
   "cell_type": "code",
   "execution_count": 43,
   "id": "a496af39",
   "metadata": {},
   "outputs": [],
   "source": [
    "df_manual.to_excel('region_label.xlsx', index=False)"
   ]
  },
  {
   "cell_type": "code",
   "execution_count": 44,
   "id": "b9c2fdf8",
   "metadata": {},
   "outputs": [
    {
     "data": {
      "text/html": [
       "<div>\n",
       "<style scoped>\n",
       "    .dataframe tbody tr th:only-of-type {\n",
       "        vertical-align: middle;\n",
       "    }\n",
       "\n",
       "    .dataframe tbody tr th {\n",
       "        vertical-align: top;\n",
       "    }\n",
       "\n",
       "    .dataframe thead th {\n",
       "        text-align: right;\n",
       "    }\n",
       "</style>\n",
       "<table border=\"1\" class=\"dataframe\">\n",
       "  <thead>\n",
       "    <tr style=\"text-align: right;\">\n",
       "      <th></th>\n",
       "      <th>Region</th>\n",
       "      <th>Amount spent (INR)</th>\n",
       "      <th>Results</th>\n",
       "      <th>Region_label</th>\n",
       "    </tr>\n",
       "  </thead>\n",
       "  <tbody>\n",
       "    <tr>\n",
       "      <th>0</th>\n",
       "      <td>Maharashtra</td>\n",
       "      <td>13166</td>\n",
       "      <td>122</td>\n",
       "      <td>13</td>\n",
       "    </tr>\n",
       "    <tr>\n",
       "      <th>1</th>\n",
       "      <td>Kerala</td>\n",
       "      <td>14725</td>\n",
       "      <td>235</td>\n",
       "      <td>11</td>\n",
       "    </tr>\n",
       "    <tr>\n",
       "      <th>2</th>\n",
       "      <td>Madhya Pradesh</td>\n",
       "      <td>48925</td>\n",
       "      <td>472</td>\n",
       "      <td>12</td>\n",
       "    </tr>\n",
       "    <tr>\n",
       "      <th>3</th>\n",
       "      <td>Haryana</td>\n",
       "      <td>2217</td>\n",
       "      <td>24</td>\n",
       "      <td>7</td>\n",
       "    </tr>\n",
       "    <tr>\n",
       "      <th>4</th>\n",
       "      <td>Rajasthan</td>\n",
       "      <td>7925</td>\n",
       "      <td>89</td>\n",
       "      <td>17</td>\n",
       "    </tr>\n",
       "  </tbody>\n",
       "</table>\n",
       "</div>"
      ],
      "text/plain": [
       "           Region  Amount spent (INR)  Results  Region_label\n",
       "0     Maharashtra               13166      122            13\n",
       "1          Kerala               14725      235            11\n",
       "2  Madhya Pradesh               48925      472            12\n",
       "3         Haryana                2217       24             7\n",
       "4       Rajasthan                7925       89            17"
      ]
     },
     "execution_count": 44,
     "metadata": {},
     "output_type": "execute_result"
    }
   ],
   "source": [
    "df_new.head()"
   ]
  },
  {
   "cell_type": "code",
   "execution_count": 45,
   "id": "0963bf3f",
   "metadata": {},
   "outputs": [
    {
     "data": {
      "text/html": [
       "<div>\n",
       "<style scoped>\n",
       "    .dataframe tbody tr th:only-of-type {\n",
       "        vertical-align: middle;\n",
       "    }\n",
       "\n",
       "    .dataframe tbody tr th {\n",
       "        vertical-align: top;\n",
       "    }\n",
       "\n",
       "    .dataframe thead th {\n",
       "        text-align: right;\n",
       "    }\n",
       "</style>\n",
       "<table border=\"1\" class=\"dataframe\">\n",
       "  <thead>\n",
       "    <tr style=\"text-align: right;\">\n",
       "      <th></th>\n",
       "      <th>Amount spent (INR)</th>\n",
       "      <th>Results</th>\n",
       "      <th>Region_label</th>\n",
       "    </tr>\n",
       "  </thead>\n",
       "  <tbody>\n",
       "    <tr>\n",
       "      <th>count</th>\n",
       "      <td>11805.000000</td>\n",
       "      <td>11805.000000</td>\n",
       "      <td>11805.000000</td>\n",
       "    </tr>\n",
       "    <tr>\n",
       "      <th>mean</th>\n",
       "      <td>25711.322914</td>\n",
       "      <td>249.627531</td>\n",
       "      <td>11.789835</td>\n",
       "    </tr>\n",
       "    <tr>\n",
       "      <th>std</th>\n",
       "      <td>15326.538188</td>\n",
       "      <td>144.008233</td>\n",
       "      <td>6.982876</td>\n",
       "    </tr>\n",
       "    <tr>\n",
       "      <th>min</th>\n",
       "      <td>45.000000</td>\n",
       "      <td>1.000000</td>\n",
       "      <td>0.000000</td>\n",
       "    </tr>\n",
       "    <tr>\n",
       "      <th>25%</th>\n",
       "      <td>12603.000000</td>\n",
       "      <td>125.000000</td>\n",
       "      <td>5.000000</td>\n",
       "    </tr>\n",
       "    <tr>\n",
       "      <th>50%</th>\n",
       "      <td>25292.000000</td>\n",
       "      <td>252.000000</td>\n",
       "      <td>13.000000</td>\n",
       "    </tr>\n",
       "    <tr>\n",
       "      <th>75%</th>\n",
       "      <td>38395.000000</td>\n",
       "      <td>374.000000</td>\n",
       "      <td>18.000000</td>\n",
       "    </tr>\n",
       "    <tr>\n",
       "      <th>max</th>\n",
       "      <td>86339.000000</td>\n",
       "      <td>500.000000</td>\n",
       "      <td>23.000000</td>\n",
       "    </tr>\n",
       "  </tbody>\n",
       "</table>\n",
       "</div>"
      ],
      "text/plain": [
       "       Amount spent (INR)       Results  Region_label\n",
       "count        11805.000000  11805.000000  11805.000000\n",
       "mean         25711.322914    249.627531     11.789835\n",
       "std          15326.538188    144.008233      6.982876\n",
       "min             45.000000      1.000000      0.000000\n",
       "25%          12603.000000    125.000000      5.000000\n",
       "50%          25292.000000    252.000000     13.000000\n",
       "75%          38395.000000    374.000000     18.000000\n",
       "max          86339.000000    500.000000     23.000000"
      ]
     },
     "execution_count": 45,
     "metadata": {},
     "output_type": "execute_result"
    }
   ],
   "source": [
    "df_new.describe()"
   ]
  },
  {
   "cell_type": "code",
   "execution_count": 46,
   "id": "bf1b3d0c",
   "metadata": {},
   "outputs": [],
   "source": [
    "df_new.drop(\"Region\",axis = 1,inplace=True)"
   ]
  },
  {
   "cell_type": "code",
   "execution_count": 47,
   "id": "42241719",
   "metadata": {},
   "outputs": [],
   "source": [
    "def clean_dataset(df):\n",
    "    assert isinstance(df, pd.DataFrame), \"df needs to be a pd.DataFrame\"\n",
    "    df.dropna(inplace=True)\n",
    "    indices_to_keep = ~df.isin([np.nan, np.inf, -np.inf]).any(axis=1)\n",
    "    return df[indices_to_keep].astype(np.float64)"
   ]
  },
  {
   "cell_type": "code",
   "execution_count": 48,
   "id": "26e89e0d",
   "metadata": {},
   "outputs": [
    {
     "data": {
      "text/html": [
       "<div>\n",
       "<style scoped>\n",
       "    .dataframe tbody tr th:only-of-type {\n",
       "        vertical-align: middle;\n",
       "    }\n",
       "\n",
       "    .dataframe tbody tr th {\n",
       "        vertical-align: top;\n",
       "    }\n",
       "\n",
       "    .dataframe thead th {\n",
       "        text-align: right;\n",
       "    }\n",
       "</style>\n",
       "<table border=\"1\" class=\"dataframe\">\n",
       "  <thead>\n",
       "    <tr style=\"text-align: right;\">\n",
       "      <th></th>\n",
       "      <th>Amount spent (INR)</th>\n",
       "      <th>Results</th>\n",
       "      <th>Region_label</th>\n",
       "    </tr>\n",
       "  </thead>\n",
       "  <tbody>\n",
       "    <tr>\n",
       "      <th>0</th>\n",
       "      <td>13166.0</td>\n",
       "      <td>122.0</td>\n",
       "      <td>13.0</td>\n",
       "    </tr>\n",
       "    <tr>\n",
       "      <th>1</th>\n",
       "      <td>14725.0</td>\n",
       "      <td>235.0</td>\n",
       "      <td>11.0</td>\n",
       "    </tr>\n",
       "    <tr>\n",
       "      <th>2</th>\n",
       "      <td>48925.0</td>\n",
       "      <td>472.0</td>\n",
       "      <td>12.0</td>\n",
       "    </tr>\n",
       "    <tr>\n",
       "      <th>3</th>\n",
       "      <td>2217.0</td>\n",
       "      <td>24.0</td>\n",
       "      <td>7.0</td>\n",
       "    </tr>\n",
       "    <tr>\n",
       "      <th>4</th>\n",
       "      <td>7925.0</td>\n",
       "      <td>89.0</td>\n",
       "      <td>17.0</td>\n",
       "    </tr>\n",
       "    <tr>\n",
       "      <th>...</th>\n",
       "      <td>...</td>\n",
       "      <td>...</td>\n",
       "      <td>...</td>\n",
       "    </tr>\n",
       "    <tr>\n",
       "      <th>11800</th>\n",
       "      <td>16098.0</td>\n",
       "      <td>150.0</td>\n",
       "      <td>5.0</td>\n",
       "    </tr>\n",
       "    <tr>\n",
       "      <th>11801</th>\n",
       "      <td>38134.0</td>\n",
       "      <td>395.0</td>\n",
       "      <td>18.0</td>\n",
       "    </tr>\n",
       "    <tr>\n",
       "      <th>11802</th>\n",
       "      <td>39174.0</td>\n",
       "      <td>363.0</td>\n",
       "      <td>13.0</td>\n",
       "    </tr>\n",
       "    <tr>\n",
       "      <th>11803</th>\n",
       "      <td>44882.0</td>\n",
       "      <td>433.0</td>\n",
       "      <td>12.0</td>\n",
       "    </tr>\n",
       "    <tr>\n",
       "      <th>11804</th>\n",
       "      <td>42382.0</td>\n",
       "      <td>439.0</td>\n",
       "      <td>18.0</td>\n",
       "    </tr>\n",
       "  </tbody>\n",
       "</table>\n",
       "<p>11805 rows × 3 columns</p>\n",
       "</div>"
      ],
      "text/plain": [
       "       Amount spent (INR)  Results  Region_label\n",
       "0                 13166.0    122.0          13.0\n",
       "1                 14725.0    235.0          11.0\n",
       "2                 48925.0    472.0          12.0\n",
       "3                  2217.0     24.0           7.0\n",
       "4                  7925.0     89.0          17.0\n",
       "...                   ...      ...           ...\n",
       "11800             16098.0    150.0           5.0\n",
       "11801             38134.0    395.0          18.0\n",
       "11802             39174.0    363.0          13.0\n",
       "11803             44882.0    433.0          12.0\n",
       "11804             42382.0    439.0          18.0\n",
       "\n",
       "[11805 rows x 3 columns]"
      ]
     },
     "execution_count": 48,
     "metadata": {},
     "output_type": "execute_result"
    }
   ],
   "source": [
    "clean_dataset(df_new)"
   ]
  },
  {
   "cell_type": "code",
   "execution_count": 49,
   "id": "30c1ea6f",
   "metadata": {},
   "outputs": [],
   "source": [
    "#Linear Regression model\n",
    "# Separating the dependent and independent features.\n",
    "X = df_new.drop(columns= ['Amount spent (INR)'], axis =1)\n",
    "y = df_new['Amount spent (INR)']"
   ]
  },
  {
   "cell_type": "code",
   "execution_count": 50,
   "id": "30d5505a",
   "metadata": {},
   "outputs": [],
   "source": [
    "#Checking the variance inflation factor for features\n",
    "from statsmodels.stats.outliers_influence import variance_inflation_factor\n",
    "def calc_vif(X):\n",
    "\n",
    "    # Calculating VIF\n",
    "    vif = pd.DataFrame()\n",
    "    vif[\"variables\"] = X.columns\n",
    "    vif[\"VIF\"] = [variance_inflation_factor(X.values, i) for i in range(X.shape[1])]\n",
    "\n",
    "    return(vif)"
   ]
  },
  {
   "cell_type": "code",
   "execution_count": 51,
   "id": "37d6f9f4",
   "metadata": {},
   "outputs": [
    {
     "data": {
      "text/html": [
       "<div>\n",
       "<style scoped>\n",
       "    .dataframe tbody tr th:only-of-type {\n",
       "        vertical-align: middle;\n",
       "    }\n",
       "\n",
       "    .dataframe tbody tr th {\n",
       "        vertical-align: top;\n",
       "    }\n",
       "\n",
       "    .dataframe thead th {\n",
       "        text-align: right;\n",
       "    }\n",
       "</style>\n",
       "<table border=\"1\" class=\"dataframe\">\n",
       "  <thead>\n",
       "    <tr style=\"text-align: right;\">\n",
       "      <th></th>\n",
       "      <th>variables</th>\n",
       "      <th>VIF</th>\n",
       "    </tr>\n",
       "  </thead>\n",
       "  <tbody>\n",
       "    <tr>\n",
       "      <th>0</th>\n",
       "      <td>Results</td>\n",
       "      <td>2.226337</td>\n",
       "    </tr>\n",
       "    <tr>\n",
       "      <th>1</th>\n",
       "      <td>Region_label</td>\n",
       "      <td>2.226337</td>\n",
       "    </tr>\n",
       "  </tbody>\n",
       "</table>\n",
       "</div>"
      ],
      "text/plain": [
       "      variables       VIF\n",
       "0       Results  2.226337\n",
       "1  Region_label  2.226337"
      ]
     },
     "execution_count": 51,
     "metadata": {},
     "output_type": "execute_result"
    }
   ],
   "source": [
    "calc_vif(df_new[[i for i in df_new.describe().columns if i not in ['Amount spent (INR)']]])"
   ]
  },
  {
   "cell_type": "code",
   "execution_count": 52,
   "id": "5c6e8b13",
   "metadata": {},
   "outputs": [
    {
     "name": "stdout",
     "output_type": "stream",
     "text": [
      "(9444, 2)\n"
     ]
    }
   ],
   "source": [
    "# Split the data for train and test\n",
    "X_train , X_test, y_train, y_test = train_test_split(X, y, test_size = 0.2, random_state = 0)\n",
    "print(X_train.shape)"
   ]
  },
  {
   "cell_type": "code",
   "execution_count": 53,
   "id": "4969fc3a",
   "metadata": {},
   "outputs": [
    {
     "data": {
      "text/plain": [
       "LinearRegression()"
      ]
     },
     "execution_count": 53,
     "metadata": {},
     "output_type": "execute_result"
    }
   ],
   "source": [
    "# Fitting a linear regression model\n",
    "lr = LinearRegression()\n",
    "lr.fit(X_train, y_train)"
   ]
  },
  {
   "cell_type": "code",
   "execution_count": 54,
   "id": "e09a3f43",
   "metadata": {},
   "outputs": [
    {
     "data": {
      "text/plain": [
       "0.9350858509696292"
      ]
     },
     "execution_count": 54,
     "metadata": {},
     "output_type": "execute_result"
    }
   ],
   "source": [
    "# Checking the score\n",
    "lr.score(X_train, y_train)"
   ]
  },
  {
   "cell_type": "code",
   "execution_count": 55,
   "id": "ac871bf0",
   "metadata": {},
   "outputs": [
    {
     "data": {
      "text/plain": [
       "array([102.75461651, -19.71127564])"
      ]
     },
     "execution_count": 55,
     "metadata": {},
     "output_type": "execute_result"
    }
   ],
   "source": [
    "# Checking the coefficient\n",
    "lr.coef_"
   ]
  },
  {
   "cell_type": "code",
   "execution_count": 56,
   "id": "b8a71889",
   "metadata": {},
   "outputs": [],
   "source": [
    "# Predicting results on train and test set\n",
    "y_pred_train = lr.predict(X_train)\n",
    "y_pred_test = lr.predict(X_test)"
   ]
  },
  {
   "cell_type": "code",
   "execution_count": 57,
   "id": "152e654f",
   "metadata": {},
   "outputs": [
    {
     "data": {
      "text/plain": [
       "array([10213.53320968,  7771.3319274 , 46730.84462185, ...,\n",
       "        3471.15107133, 33324.92544771, 29824.15192567])"
      ]
     },
     "execution_count": 57,
     "metadata": {},
     "output_type": "execute_result"
    }
   ],
   "source": [
    "y_pred_train"
   ]
  },
  {
   "cell_type": "code",
   "execution_count": 58,
   "id": "2666f0bf",
   "metadata": {},
   "outputs": [
    {
     "data": {
      "text/plain": [
       "array([37937.56839161, 33265.79162079, 10711.7932549 , ...,\n",
       "        9323.96597407, 44767.19210914, 43189.36863262])"
      ]
     },
     "execution_count": 58,
     "metadata": {},
     "output_type": "execute_result"
    }
   ],
   "source": [
    "y_pred_test"
   ]
  },
  {
   "cell_type": "code",
   "execution_count": 59,
   "id": "c0103a10",
   "metadata": {},
   "outputs": [
    {
     "name": "stdout",
     "output_type": "stream",
     "text": [
      "MSE : 9.604057666624243e+16\n",
      "RMSE : 309904141.0924392\n",
      "MAE : 126825365.98322673\n",
      "R2 : 0.8687409098763912\n",
      "Adjusted R2 : 0.8686295790111463\n"
     ]
    }
   ],
   "source": [
    "# evaluating the metrics on train set\n",
    "from sklearn.metrics import mean_squared_error\n",
    "from sklearn.metrics import mean_absolute_error\n",
    "#calculate MSE\n",
    "MSE_lr= mean_squared_error((y_train**2), (y_pred_train**2))\n",
    "print(\"MSE :\",MSE_lr)\n",
    "\n",
    "#calculate RMSE\n",
    "RMSE_lr=np.sqrt(MSE_lr)\n",
    "print(\"RMSE :\",RMSE_lr)\n",
    "\n",
    "\n",
    "#calculate MAE\n",
    "MAE_lr= mean_absolute_error(y_train**2, y_pred_train**2)\n",
    "print(\"MAE :\",MAE_lr)\n",
    "\n",
    "\n",
    "\n",
    "#import the packages\n",
    "from sklearn.metrics import r2_score\n",
    "#calculate r2 and adjusted r2\n",
    "r2_lr= r2_score((y_train)**2, (y_pred_train)**2) #squaring the dependent variable y because dependent variable was transformed using square root\n",
    "print(\"R2 :\",r2_lr)\n",
    "Adjusted_R2_lr = ((1-(1-r2_lr)*((X_test.shape[0]-1)/(X_test.shape[0]-X_test.shape[1]-1))))\n",
    "print(\"Adjusted R2 :\",Adjusted_R2_lr )"
   ]
  },
  {
   "cell_type": "code",
   "execution_count": 60,
   "id": "c921db6a",
   "metadata": {},
   "outputs": [
    {
     "name": "stdout",
     "output_type": "stream",
     "text": [
      "MSE : 1.0589184114591963e+17\n",
      "RMSE : 325410265.88895386\n",
      "MAE : 129705358.98380746\n",
      "R2 : 0.8586653277156158\n",
      "Adjusted R2 : 0.8585454509791575\n"
     ]
    }
   ],
   "source": [
    "# checking the metrics on test set\n",
    "from sklearn.metrics import mean_squared_error\n",
    "#calculate MSE\n",
    "MSE_lr= mean_squared_error(y_test**2, y_pred_test**2)\n",
    "print(\"MSE :\",MSE_lr)\n",
    "\n",
    "#calculate RMSE\n",
    "RMSE_lr=np.sqrt(MSE_lr)\n",
    "print(\"RMSE :\",RMSE_lr)\n",
    "\n",
    "\n",
    "#calculate MAE\n",
    "MAE_lr= mean_absolute_error(y_test**2, y_pred_test**2)\n",
    "print(\"MAE :\",MAE_lr)\n",
    "\n",
    "\n",
    "#import the packages\n",
    "from sklearn.metrics import r2_score\n",
    "#calculate r2 and adjusted r2\n",
    "r2_lr= r2_score((y_test)**2, (y_pred_test)**2) #squaring the dependent variable y because dependent variable was transformed using square root\n",
    "print(\"R2 :\",r2_lr)\n",
    "Adjusted_R2_lr = ((1-(1-r2_lr)*((X_test.shape[0]-1)/(X_test.shape[0]-X_test.shape[1]-1))))\n",
    "print(\"Adjusted R2 :\",Adjusted_R2_lr )"
   ]
  },
  {
   "cell_type": "code",
   "execution_count": 61,
   "id": "b6e657ec",
   "metadata": {},
   "outputs": [],
   "source": [
    "#creating pickle file\n",
    "import pickle\n",
    "# Save the trained model as a pickle file\n",
    "filename = 'linear_regression_model.pkl'\n",
    "with open(filename, 'wb') as file:\n",
    "    pickle.dump(lr, file)"
   ]
  },
  {
   "cell_type": "code",
   "execution_count": null,
   "id": "df2cbcb1",
   "metadata": {},
   "outputs": [],
   "source": []
  }
 ],
 "metadata": {
  "kernelspec": {
   "display_name": "Python 3 (ipykernel)",
   "language": "python",
   "name": "python3"
  },
  "language_info": {
   "codemirror_mode": {
    "name": "ipython",
    "version": 3
   },
   "file_extension": ".py",
   "mimetype": "text/x-python",
   "name": "python",
   "nbconvert_exporter": "python",
   "pygments_lexer": "ipython3",
   "version": "3.9.7"
  }
 },
 "nbformat": 4,
 "nbformat_minor": 5
}
